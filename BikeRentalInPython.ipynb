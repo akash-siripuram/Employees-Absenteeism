{
 "cells": [
  {
   "cell_type": "code",
   "execution_count": 132,
   "metadata": {},
   "outputs": [],
   "source": [
    "#Loading Libraries\n",
    "import os\n",
    "import numpy as np\n",
    "import pandas as pd\n",
    "import matplotlib.pyplot as plt\n",
    "import seaborn as sns\n",
    "from math import sqrt"
   ]
  },
  {
   "cell_type": "code",
   "execution_count": 102,
   "metadata": {},
   "outputs": [],
   "source": [
    "#Reading data\n",
    "data=pd.read_excel(\"AbsenteeismForPython.xls\")"
   ]
  },
  {
   "cell_type": "code",
   "execution_count": 4,
   "metadata": {
    "collapsed": true
   },
   "outputs": [
    {
     "data": {
      "text/plain": [
       "(740, 21)"
      ]
     },
     "execution_count": 4,
     "metadata": {},
     "output_type": "execute_result"
    }
   ],
   "source": [
    "data.shape"
   ]
  },
  {
   "cell_type": "code",
   "execution_count": 103,
   "metadata": {},
   "outputs": [],
   "source": [
    "#Removing all the rows w.r.t to NULL values in Absenteeism_time_in_hours Variable.\n",
    "data = data[pd.notnull(data['Absenteeism_time_in_hours'])]"
   ]
  },
  {
   "cell_type": "code",
   "execution_count": 7,
   "metadata": {
    "collapsed": true
   },
   "outputs": [
    {
     "data": {
      "text/html": [
       "<div>\n",
       "<style scoped>\n",
       "    .dataframe tbody tr th:only-of-type {\n",
       "        vertical-align: middle;\n",
       "    }\n",
       "\n",
       "    .dataframe tbody tr th {\n",
       "        vertical-align: top;\n",
       "    }\n",
       "\n",
       "    .dataframe thead th {\n",
       "        text-align: right;\n",
       "    }\n",
       "</style>\n",
       "<table border=\"1\" class=\"dataframe\">\n",
       "  <thead>\n",
       "    <tr style=\"text-align: right;\">\n",
       "      <th></th>\n",
       "      <th>0</th>\n",
       "    </tr>\n",
       "  </thead>\n",
       "  <tbody>\n",
       "    <tr>\n",
       "      <th>ID</th>\n",
       "      <td>0</td>\n",
       "    </tr>\n",
       "    <tr>\n",
       "      <th>Reason_for_absence</th>\n",
       "      <td>3</td>\n",
       "    </tr>\n",
       "    <tr>\n",
       "      <th>Month_of_absence</th>\n",
       "      <td>1</td>\n",
       "    </tr>\n",
       "    <tr>\n",
       "      <th>Day_of_the_week</th>\n",
       "      <td>0</td>\n",
       "    </tr>\n",
       "    <tr>\n",
       "      <th>Seasons</th>\n",
       "      <td>0</td>\n",
       "    </tr>\n",
       "    <tr>\n",
       "      <th>Transportation_expense</th>\n",
       "      <td>6</td>\n",
       "    </tr>\n",
       "    <tr>\n",
       "      <th>Distance_from_Residence_to_Work</th>\n",
       "      <td>3</td>\n",
       "    </tr>\n",
       "    <tr>\n",
       "      <th>Service_time</th>\n",
       "      <td>3</td>\n",
       "    </tr>\n",
       "    <tr>\n",
       "      <th>Age</th>\n",
       "      <td>2</td>\n",
       "    </tr>\n",
       "    <tr>\n",
       "      <th>Work_load_Average_Perday</th>\n",
       "      <td>8</td>\n",
       "    </tr>\n",
       "    <tr>\n",
       "      <th>Hit_target</th>\n",
       "      <td>6</td>\n",
       "    </tr>\n",
       "    <tr>\n",
       "      <th>Disciplinary_failure</th>\n",
       "      <td>5</td>\n",
       "    </tr>\n",
       "    <tr>\n",
       "      <th>Education</th>\n",
       "      <td>10</td>\n",
       "    </tr>\n",
       "    <tr>\n",
       "      <th>Son</th>\n",
       "      <td>6</td>\n",
       "    </tr>\n",
       "    <tr>\n",
       "      <th>Social_drinker</th>\n",
       "      <td>3</td>\n",
       "    </tr>\n",
       "    <tr>\n",
       "      <th>Social_smoker</th>\n",
       "      <td>4</td>\n",
       "    </tr>\n",
       "    <tr>\n",
       "      <th>Pet</th>\n",
       "      <td>2</td>\n",
       "    </tr>\n",
       "    <tr>\n",
       "      <th>Weight</th>\n",
       "      <td>1</td>\n",
       "    </tr>\n",
       "    <tr>\n",
       "      <th>Height</th>\n",
       "      <td>14</td>\n",
       "    </tr>\n",
       "    <tr>\n",
       "      <th>Body_mass_index</th>\n",
       "      <td>29</td>\n",
       "    </tr>\n",
       "    <tr>\n",
       "      <th>Absenteeism_time_in_hours</th>\n",
       "      <td>0</td>\n",
       "    </tr>\n",
       "  </tbody>\n",
       "</table>\n",
       "</div>"
      ],
      "text/plain": [
       "                                  0\n",
       "ID                                0\n",
       "Reason_for_absence                3\n",
       "Month_of_absence                  1\n",
       "Day_of_the_week                   0\n",
       "Seasons                           0\n",
       "Transportation_expense            6\n",
       "Distance_from_Residence_to_Work   3\n",
       "Service_time                      3\n",
       "Age                               2\n",
       "Work_load_Average_Perday          8\n",
       "Hit_target                        6\n",
       "Disciplinary_failure              5\n",
       "Education                        10\n",
       "Son                               6\n",
       "Social_drinker                    3\n",
       "Social_smoker                     4\n",
       "Pet                               2\n",
       "Weight                            1\n",
       "Height                           14\n",
       "Body_mass_index                  29\n",
       "Absenteeism_time_in_hours         0"
      ]
     },
     "execution_count": 7,
     "metadata": {},
     "output_type": "execute_result"
    }
   ],
   "source": [
    "#missing value analysis\n",
    "\n",
    "#Here we are checking the count of missing values in each variable\n",
    "\n",
    "missing_val=pd.DataFrame(data.isnull().sum())\n",
    "missing_val"
   ]
  },
  {
   "cell_type": "code",
   "execution_count": 104,
   "metadata": {},
   "outputs": [],
   "source": [
    "#Doing missing value analysis:\n",
    "\n",
    "data['Reason_for_absence']=data['Reason_for_absence'].fillna(data['Reason_for_absence'].mode()[0])\n",
    "data['Month_of_absence']=data['Month_of_absence'].fillna(data['Month_of_absence'].mode()[0])\n",
    "data['Transportation_expense']=data['Transportation_expense'].fillna(data['Transportation_expense'].mean())\n",
    "data['Distance_from_Residence_to_Work']=data['Distance_from_Residence_to_Work'].fillna(data['Distance_from_Residence_to_Work'].mean())\n",
    "data['Service_time']=data['Service_time'].fillna(data['Service_time'].mean())\n",
    "data['Age']=data['Age'].fillna(data['Age'].mean())\n",
    "data['Education']=data['Education'].fillna(data['Education'].mode()[0])\n",
    "data['Hit_target']=data['Hit_target'].fillna(data['Hit_target'].mean())\n",
    "data['Disciplinary_failure']=data['Disciplinary_failure'].fillna(data['Disciplinary_failure'].mode()[0])\n",
    "data['Son']=data['Son'].fillna(data['Son'].mean())\n",
    "data['Weight']=data['Weight'].fillna(data['Weight'].mean())\n",
    "data['Social_drinker']=data['Social_drinker'].fillna(data['Social_drinker'].mode()[0])\n",
    "data['Pet']=data['Pet'].fillna(data['Pet'].mode()[0])\n",
    "data['Height']=data['Height'].fillna(data['Height'].mean())\n",
    "data['Body_mass_index']=data['Body_mass_index'].fillna(data['Body_mass_index'].mean())\n",
    "data['Social_smoker']=data['Social_smoker'].fillna(data['Social_smoker'].mode()[0])\n",
    "data['Work_load_Average_Perday']=data['Work_load_Average_Perday'].fillna(data['Work_load_Average_Perday'].mean())"
   ]
  },
  {
   "cell_type": "code",
   "execution_count": 105,
   "metadata": {},
   "outputs": [],
   "source": [
    "#Changing the datatype\n",
    "\n",
    "data['ID'] = data.ID.astype(\"category\")\n",
    "data['Reason_for_absence'] = data.Reason_for_absence.astype(\"category\")\n",
    "data['Month_of_absence'] = data.Month_of_absence.astype(\"category\")\n",
    "data['Day_of_the_week'] = data.Day_of_the_week.astype(\"category\")\n",
    "data['Seasons'] = data.Seasons.astype(\"category\")\n",
    "data['Transportation_expense'] = data.Transportation_expense.astype(int)\n",
    "data['Distance_from_Residence_to_Work'] = data.Distance_from_Residence_to_Work.astype(int)\n",
    "data['Service_time'] = data.Service_time.astype(int)\n",
    "data['Age'] = data.Age.astype(int)\n",
    "data['Work_load_Average_Perday'] = data.Work_load_Average_Perday.astype(int)\n",
    "data['Hit_target'] = data.Hit_target.astype(int)\n",
    "data['Disciplinary_failure'] = data.Disciplinary_failure.astype(\"category\")\n",
    "data['Education'] = data.Education.astype(\"category\")\n",
    "data['Son'] = data.Son.astype(\"category\")\n",
    "data['Social_drinker'] = data.Social_drinker.astype(\"category\")\n",
    "data['Social_smoker'] = data.Social_smoker.astype(\"category\")\n",
    "data['Pet'] = data.Pet.astype(\"category\")\n",
    "data['Social_smoker'] = data.Social_smoker.astype(\"category\")\n",
    "data['Social_smoker'] = data.Social_smoker.astype(\"category\")\n",
    "data['Weight'] = data.Weight.astype(int)\n",
    "data['Height'] = data.Height.astype(int)\n",
    "data['Body_mass_index'] = data.Body_mass_index.astype(int)\n",
    "data['Absenteeism_time_in_hours'] = data.Absenteeism_time_in_hours.astype(int)"
   ]
  },
  {
   "cell_type": "code",
   "execution_count": 10,
   "metadata": {
    "collapsed": true
   },
   "outputs": [
    {
     "data": {
      "text/html": [
       "<div>\n",
       "<style scoped>\n",
       "    .dataframe tbody tr th:only-of-type {\n",
       "        vertical-align: middle;\n",
       "    }\n",
       "\n",
       "    .dataframe tbody tr th {\n",
       "        vertical-align: top;\n",
       "    }\n",
       "\n",
       "    .dataframe thead th {\n",
       "        text-align: right;\n",
       "    }\n",
       "</style>\n",
       "<table border=\"1\" class=\"dataframe\">\n",
       "  <thead>\n",
       "    <tr style=\"text-align: right;\">\n",
       "      <th></th>\n",
       "      <th>0</th>\n",
       "    </tr>\n",
       "  </thead>\n",
       "  <tbody>\n",
       "    <tr>\n",
       "      <th>ID</th>\n",
       "      <td>0</td>\n",
       "    </tr>\n",
       "    <tr>\n",
       "      <th>Reason_for_absence</th>\n",
       "      <td>0</td>\n",
       "    </tr>\n",
       "    <tr>\n",
       "      <th>Month_of_absence</th>\n",
       "      <td>0</td>\n",
       "    </tr>\n",
       "    <tr>\n",
       "      <th>Day_of_the_week</th>\n",
       "      <td>0</td>\n",
       "    </tr>\n",
       "    <tr>\n",
       "      <th>Seasons</th>\n",
       "      <td>0</td>\n",
       "    </tr>\n",
       "    <tr>\n",
       "      <th>Transportation_expense</th>\n",
       "      <td>0</td>\n",
       "    </tr>\n",
       "    <tr>\n",
       "      <th>Distance_from_Residence_to_Work</th>\n",
       "      <td>0</td>\n",
       "    </tr>\n",
       "    <tr>\n",
       "      <th>Service_time</th>\n",
       "      <td>0</td>\n",
       "    </tr>\n",
       "    <tr>\n",
       "      <th>Age</th>\n",
       "      <td>0</td>\n",
       "    </tr>\n",
       "    <tr>\n",
       "      <th>Work_load_Average_Perday</th>\n",
       "      <td>0</td>\n",
       "    </tr>\n",
       "    <tr>\n",
       "      <th>Hit_target</th>\n",
       "      <td>0</td>\n",
       "    </tr>\n",
       "    <tr>\n",
       "      <th>Disciplinary_failure</th>\n",
       "      <td>0</td>\n",
       "    </tr>\n",
       "    <tr>\n",
       "      <th>Education</th>\n",
       "      <td>0</td>\n",
       "    </tr>\n",
       "    <tr>\n",
       "      <th>Son</th>\n",
       "      <td>0</td>\n",
       "    </tr>\n",
       "    <tr>\n",
       "      <th>Social_drinker</th>\n",
       "      <td>0</td>\n",
       "    </tr>\n",
       "    <tr>\n",
       "      <th>Social_smoker</th>\n",
       "      <td>0</td>\n",
       "    </tr>\n",
       "    <tr>\n",
       "      <th>Pet</th>\n",
       "      <td>0</td>\n",
       "    </tr>\n",
       "    <tr>\n",
       "      <th>Weight</th>\n",
       "      <td>0</td>\n",
       "    </tr>\n",
       "    <tr>\n",
       "      <th>Height</th>\n",
       "      <td>0</td>\n",
       "    </tr>\n",
       "    <tr>\n",
       "      <th>Body_mass_index</th>\n",
       "      <td>0</td>\n",
       "    </tr>\n",
       "    <tr>\n",
       "      <th>Absenteeism_time_in_hours</th>\n",
       "      <td>0</td>\n",
       "    </tr>\n",
       "  </tbody>\n",
       "</table>\n",
       "</div>"
      ],
      "text/plain": [
       "                                 0\n",
       "ID                               0\n",
       "Reason_for_absence               0\n",
       "Month_of_absence                 0\n",
       "Day_of_the_week                  0\n",
       "Seasons                          0\n",
       "Transportation_expense           0\n",
       "Distance_from_Residence_to_Work  0\n",
       "Service_time                     0\n",
       "Age                              0\n",
       "Work_load_Average_Perday         0\n",
       "Hit_target                       0\n",
       "Disciplinary_failure             0\n",
       "Education                        0\n",
       "Son                              0\n",
       "Social_drinker                   0\n",
       "Social_smoker                    0\n",
       "Pet                              0\n",
       "Weight                           0\n",
       "Height                           0\n",
       "Body_mass_index                  0\n",
       "Absenteeism_time_in_hours        0"
      ]
     },
     "execution_count": 10,
     "metadata": {},
     "output_type": "execute_result"
    }
   ],
   "source": [
    "#Checking the missing values again:\n",
    "missing_vall=pd.DataFrame(data.isnull().sum())\n",
    "\n",
    "missing_vall"
   ]
  },
  {
   "cell_type": "code",
   "execution_count": 11,
   "metadata": {
    "collapsed": true
   },
   "outputs": [
    {
     "data": {
      "text/plain": [
       "{'whiskers': [<matplotlib.lines.Line2D at 0x1e8e86083c8>,\n",
       "  <matplotlib.lines.Line2D at 0x1e8e8608710>],\n",
       " 'caps': [<matplotlib.lines.Line2D at 0x1e8e8608a58>,\n",
       "  <matplotlib.lines.Line2D at 0x1e8e8608da0>],\n",
       " 'boxes': [<matplotlib.lines.Line2D at 0x1e8e85f4f60>],\n",
       " 'medians': [<matplotlib.lines.Line2D at 0x1e8e8608e80>],\n",
       " 'fliers': [<matplotlib.lines.Line2D at 0x1e8e8602470>],\n",
       " 'means': []}"
      ]
     },
     "execution_count": 11,
     "metadata": {},
     "output_type": "execute_result"
    },
    {
     "data": {
      "image/png": "[encoded data removed]",
      "text/plain": [
       "<Figure size 432x288 with 1 Axes>"
      ]
     },
     "metadata": {
      "needs_background": "light"
     },
     "output_type": "display_data"
    }
   ],
   "source": [
    "#Boxplot to check the outliers of each independent variables.\n",
    "\n",
    "plt.boxplot(data[\"Transportation_expense\"])"
   ]
  },
  {
   "cell_type": "code",
   "execution_count": 103,
   "metadata": {
    "collapsed": true
   },
   "outputs": [
    {
     "data": {
      "text/plain": [
       "{'whiskers': [<matplotlib.lines.Line2D at 0x210113d79b0>,\n",
       "  <matplotlib.lines.Line2D at 0x210113d7cf8>],\n",
       " 'caps': [<matplotlib.lines.Line2D at 0x210113d7dd8>,\n",
       "  <matplotlib.lines.Line2D at 0x210113f13c8>],\n",
       " 'boxes': [<matplotlib.lines.Line2D at 0x210113d75f8>],\n",
       " 'medians': [<matplotlib.lines.Line2D at 0x210113f1710>],\n",
       " 'fliers': [<matplotlib.lines.Line2D at 0x210113f1a58>],\n",
       " 'means': []}"
      ]
     },
     "execution_count": 103,
     "metadata": {},
     "output_type": "execute_result"
    },
    {
     "data": {
      "image/png": "[encoded data removed]",
      "text/plain": [
       "<Figure size 432x288 with 1 Axes>"
      ]
     },
     "metadata": {
      "needs_background": "light"
     },
     "output_type": "display_data"
    }
   ],
   "source": [
    "plt.boxplot(data[\"Service_time\"])"
   ]
  },
  {
   "cell_type": "code",
   "execution_count": 104,
   "metadata": {
    "collapsed": true
   },
   "outputs": [
    {
     "data": {
      "text/plain": [
       "{'whiskers': [<matplotlib.lines.Line2D at 0x21011397a20>,\n",
       "  <matplotlib.lines.Line2D at 0x21011397d68>],\n",
       " 'caps': [<matplotlib.lines.Line2D at 0x21011397e48>,\n",
       "  <matplotlib.lines.Line2D at 0x21011396438>],\n",
       " 'boxes': [<matplotlib.lines.Line2D at 0x21011397668>],\n",
       " 'medians': [<matplotlib.lines.Line2D at 0x21011396780>],\n",
       " 'fliers': [<matplotlib.lines.Line2D at 0x21011396ac8>],\n",
       " 'means': []}"
      ]
     },
     "execution_count": 104,
     "metadata": {},
     "output_type": "execute_result"
    },
    {
     "data": {
      "image/png": "[encoded data removed]",
      "text/plain": [
       "<Figure size 432x288 with 1 Axes>"
      ]
     },
     "metadata": {
      "needs_background": "light"
     },
     "output_type": "display_data"
    }
   ],
   "source": [
    "plt.boxplot(data[\"Age\"])"
   ]
  },
  {
   "cell_type": "code",
   "execution_count": 105,
   "metadata": {
    "collapsed": true
   },
   "outputs": [
    {
     "data": {
      "text/plain": [
       "{'whiskers': [<matplotlib.lines.Line2D at 0x21011582400>,\n",
       "  <matplotlib.lines.Line2D at 0x21011582748>],\n",
       " 'caps': [<matplotlib.lines.Line2D at 0x21011582a90>,\n",
       "  <matplotlib.lines.Line2D at 0x21011582dd8>],\n",
       " 'boxes': [<matplotlib.lines.Line2D at 0x21011582048>],\n",
       " 'medians': [<matplotlib.lines.Line2D at 0x21011582eb8>],\n",
       " 'fliers': [<matplotlib.lines.Line2D at 0x210115564a8>],\n",
       " 'means': []}"
      ]
     },
     "execution_count": 105,
     "metadata": {},
     "output_type": "execute_result"
    },
    {
     "data": {
      "image/png": "[encoded data removed]",
      "text/plain": [
       "<Figure size 432x288 with 1 Axes>"
      ]
     },
     "metadata": {
      "needs_background": "light"
     },
     "output_type": "display_data"
    }
   ],
   "source": [
    "plt.boxplot(data[\"Work_load_Average_Perday\"])"
   ]
  },
  {
   "cell_type": "code",
   "execution_count": 106,
   "metadata": {
    "collapsed": true
   },
   "outputs": [
    {
     "data": {
      "text/plain": [
       "{'whiskers': [<matplotlib.lines.Line2D at 0x2101169d5f8>,\n",
       "  <matplotlib.lines.Line2D at 0x2101169d940>],\n",
       " 'caps': [<matplotlib.lines.Line2D at 0x2101169dc88>,\n",
       "  <matplotlib.lines.Line2D at 0x2101169dfd0>],\n",
       " 'boxes': [<matplotlib.lines.Line2D at 0x2101169d240>],\n",
       " 'medians': [<matplotlib.lines.Line2D at 0x2101169df98>],\n",
       " 'fliers': [<matplotlib.lines.Line2D at 0x210116a86a0>],\n",
       " 'means': []}"
      ]
     },
     "execution_count": 106,
     "metadata": {},
     "output_type": "execute_result"
    },
    {
     "data": {
      "image/png": "[encoded data removed]",
      "text/plain": [
       "<Figure size 432x288 with 1 Axes>"
      ]
     },
     "metadata": {
      "needs_background": "light"
     },
     "output_type": "display_data"
    }
   ],
   "source": [
    "plt.boxplot(data[\"Hit_target\"])"
   ]
  },
  {
   "cell_type": "code",
   "execution_count": 108,
   "metadata": {
    "collapsed": true
   },
   "outputs": [
    {
     "data": {
      "text/plain": [
       "{'whiskers': [<matplotlib.lines.Line2D at 0x210114bbe80>,\n",
       "  <matplotlib.lines.Line2D at 0x21011644470>],\n",
       " 'caps': [<matplotlib.lines.Line2D at 0x210116447b8>,\n",
       "  <matplotlib.lines.Line2D at 0x21011644b00>],\n",
       " 'boxes': [<matplotlib.lines.Line2D at 0x210114bbd30>],\n",
       " 'medians': [<matplotlib.lines.Line2D at 0x21011644e48>],\n",
       " 'fliers': [<matplotlib.lines.Line2D at 0x21011644f28>],\n",
       " 'means': []}"
      ]
     },
     "execution_count": 108,
     "metadata": {},
     "output_type": "execute_result"
    },
    {
     "data": {
      "image/png": "[encoded data removed]",
      "text/plain": [
       "<Figure size 432x288 with 1 Axes>"
      ]
     },
     "metadata": {
      "needs_background": "light"
     },
     "output_type": "display_data"
    }
   ],
   "source": [
    "plt.boxplot(data[\"Height\"])"
   ]
  },
  {
   "cell_type": "code",
   "execution_count": 110,
   "metadata": {
    "collapsed": true
   },
   "outputs": [
    {
     "data": {
      "text/plain": [
       "{'whiskers': [<matplotlib.lines.Line2D at 0x2101197df60>,\n",
       "  <matplotlib.lines.Line2D at 0x2101197df28>],\n",
       " 'caps': [<matplotlib.lines.Line2D at 0x21011988630>,\n",
       "  <matplotlib.lines.Line2D at 0x21011988978>],\n",
       " 'boxes': [<matplotlib.lines.Line2D at 0x2101197dba8>],\n",
       " 'medians': [<matplotlib.lines.Line2D at 0x21011988cc0>],\n",
       " 'fliers': [<matplotlib.lines.Line2D at 0x21011988da0>],\n",
       " 'means': []}"
      ]
     },
     "execution_count": 110,
     "metadata": {},
     "output_type": "execute_result"
    },
    {
     "data": {
      "image/png": "[encoded data removed]",
      "text/plain": [
       "<Figure size 432x288 with 1 Axes>"
      ]
     },
     "metadata": {
      "needs_background": "light"
     },
     "output_type": "display_data"
    }
   ],
   "source": [
    "plt.boxplot(data[\"Absenteeism_time_in_hours\"])"
   ]
  },
  {
   "cell_type": "code",
   "execution_count": null,
   "metadata": {},
   "outputs": [],
   "source": [
    "#So we had outliers in these variables namely Transportation_expense, Service_time, Age, Work_load_Average_Perday, Hit_target, Height, Absenteeism_time_in_hours. "
   ]
  },
  {
   "cell_type": "code",
   "execution_count": 106,
   "metadata": {},
   "outputs": [],
   "source": [
    "#Performing Outlier analysis\n",
    "\n",
    "#Here we are going to calculate the percentiles i.e 25,50,75 and calculate the outer regions and remove \n",
    "#the outliers that are present outside the regions\n",
    "cnames=[\"Transportation_expense\",\"Service_time\",\"Age\",\"Work_load_Average_Perday\",\"Hit_target\",\"Height\",\"Absenteeism_time_in_hours\"]\n",
    "#calculating 75th and 25th percentile\n",
    "for i in cnames:\n",
    "    q75,q25=np.percentile(data[i],[75,25])\n",
    "    \n",
    "#calculating 50th percentile\n",
    "    iqr= q75-q25\n",
    "#calculating inner and outer fence\n",
    "    min1=q25-(iqr)\n",
    "    max1=q75+(iqr)\n",
    "    \n",
    "    data.loc[data[i]<min1,i]=np.nan\n",
    "    data.loc[data[i]>max1,i]=np.nan"
   ]
  },
  {
   "cell_type": "code",
   "execution_count": 37,
   "metadata": {
    "collapsed": true
   },
   "outputs": [
    {
     "data": {
      "text/html": [
       "<div>\n",
       "<style scoped>\n",
       "    .dataframe tbody tr th:only-of-type {\n",
       "        vertical-align: middle;\n",
       "    }\n",
       "\n",
       "    .dataframe tbody tr th {\n",
       "        vertical-align: top;\n",
       "    }\n",
       "\n",
       "    .dataframe thead th {\n",
       "        text-align: right;\n",
       "    }\n",
       "</style>\n",
       "<table border=\"1\" class=\"dataframe\">\n",
       "  <thead>\n",
       "    <tr style=\"text-align: right;\">\n",
       "      <th></th>\n",
       "      <th>0</th>\n",
       "    </tr>\n",
       "  </thead>\n",
       "  <tbody>\n",
       "    <tr>\n",
       "      <th>ID</th>\n",
       "      <td>0</td>\n",
       "    </tr>\n",
       "    <tr>\n",
       "      <th>Reason_for_absence</th>\n",
       "      <td>0</td>\n",
       "    </tr>\n",
       "    <tr>\n",
       "      <th>Month_of_absence</th>\n",
       "      <td>0</td>\n",
       "    </tr>\n",
       "    <tr>\n",
       "      <th>Day_of_the_week</th>\n",
       "      <td>0</td>\n",
       "    </tr>\n",
       "    <tr>\n",
       "      <th>Seasons</th>\n",
       "      <td>0</td>\n",
       "    </tr>\n",
       "    <tr>\n",
       "      <th>Transportation_expense</th>\n",
       "      <td>44</td>\n",
       "    </tr>\n",
       "    <tr>\n",
       "      <th>Distance_from_Residence_to_Work</th>\n",
       "      <td>0</td>\n",
       "    </tr>\n",
       "    <tr>\n",
       "      <th>Service_time</th>\n",
       "      <td>14</td>\n",
       "    </tr>\n",
       "    <tr>\n",
       "      <th>Age</th>\n",
       "      <td>44</td>\n",
       "    </tr>\n",
       "    <tr>\n",
       "      <th>Work_load_Average_Perday</th>\n",
       "      <td>89</td>\n",
       "    </tr>\n",
       "    <tr>\n",
       "      <th>Hit_target</th>\n",
       "      <td>57</td>\n",
       "    </tr>\n",
       "    <tr>\n",
       "      <th>Disciplinary_failure</th>\n",
       "      <td>0</td>\n",
       "    </tr>\n",
       "    <tr>\n",
       "      <th>Education</th>\n",
       "      <td>0</td>\n",
       "    </tr>\n",
       "    <tr>\n",
       "      <th>Son</th>\n",
       "      <td>0</td>\n",
       "    </tr>\n",
       "    <tr>\n",
       "      <th>Social_drinker</th>\n",
       "      <td>0</td>\n",
       "    </tr>\n",
       "    <tr>\n",
       "      <th>Social_smoker</th>\n",
       "      <td>0</td>\n",
       "    </tr>\n",
       "    <tr>\n",
       "      <th>Pet</th>\n",
       "      <td>0</td>\n",
       "    </tr>\n",
       "    <tr>\n",
       "      <th>Weight</th>\n",
       "      <td>0</td>\n",
       "    </tr>\n",
       "    <tr>\n",
       "      <th>Height</th>\n",
       "      <td>138</td>\n",
       "    </tr>\n",
       "    <tr>\n",
       "      <th>Body_mass_index</th>\n",
       "      <td>0</td>\n",
       "    </tr>\n",
       "    <tr>\n",
       "      <th>Absenteeism_time_in_hours</th>\n",
       "      <td>62</td>\n",
       "    </tr>\n",
       "  </tbody>\n",
       "</table>\n",
       "</div>"
      ],
      "text/plain": [
       "                                   0\n",
       "ID                                 0\n",
       "Reason_for_absence                 0\n",
       "Month_of_absence                   0\n",
       "Day_of_the_week                    0\n",
       "Seasons                            0\n",
       "Transportation_expense            44\n",
       "Distance_from_Residence_to_Work    0\n",
       "Service_time                      14\n",
       "Age                               44\n",
       "Work_load_Average_Perday          89\n",
       "Hit_target                        57\n",
       "Disciplinary_failure               0\n",
       "Education                          0\n",
       "Son                                0\n",
       "Social_drinker                     0\n",
       "Social_smoker                      0\n",
       "Pet                                0\n",
       "Weight                             0\n",
       "Height                           138\n",
       "Body_mass_index                    0\n",
       "Absenteeism_time_in_hours         62"
      ]
     },
     "execution_count": 37,
     "metadata": {},
     "output_type": "execute_result"
    }
   ],
   "source": [
    "#Checking the missing values again:\n",
    "missing_valll=pd.DataFrame(data.isnull().sum())\n",
    "missing_valll"
   ]
  },
  {
   "cell_type": "code",
   "execution_count": 107,
   "metadata": {},
   "outputs": [],
   "source": [
    "#Imputing all the null values with mean\n",
    "data['Transportation_expense']=data['Transportation_expense'].fillna(data['Transportation_expense'].mean())\n",
    "data['Service_time']=data['Service_time'].fillna(data['Service_time'].mean())\n",
    "data['Age']=data['Age'].fillna(data['Age'].mean())\n",
    "data['Hit_target']=data['Hit_target'].fillna(data['Hit_target'].mean())\n",
    "data['Height']=data['Height'].fillna(data['Height'].mean())\n",
    "data['Absenteeism_time_in_hours']=data['Absenteeism_time_in_hours'].fillna(data['Absenteeism_time_in_hours'].mean())\n",
    "data['Work_load_Average_Perday']=data['Work_load_Average_Perday'].fillna(data['Work_load_Average_Perday'].mean())"
   ]
  },
  {
   "cell_type": "code",
   "execution_count": 39,
   "metadata": {
    "collapsed": true
   },
   "outputs": [
    {
     "data": {
      "text/html": [
       "<div>\n",
       "<style scoped>\n",
       "    .dataframe tbody tr th:only-of-type {\n",
       "        vertical-align: middle;\n",
       "    }\n",
       "\n",
       "    .dataframe tbody tr th {\n",
       "        vertical-align: top;\n",
       "    }\n",
       "\n",
       "    .dataframe thead th {\n",
       "        text-align: right;\n",
       "    }\n",
       "</style>\n",
       "<table border=\"1\" class=\"dataframe\">\n",
       "  <thead>\n",
       "    <tr style=\"text-align: right;\">\n",
       "      <th></th>\n",
       "      <th>0</th>\n",
       "    </tr>\n",
       "  </thead>\n",
       "  <tbody>\n",
       "    <tr>\n",
       "      <th>ID</th>\n",
       "      <td>0</td>\n",
       "    </tr>\n",
       "    <tr>\n",
       "      <th>Reason_for_absence</th>\n",
       "      <td>0</td>\n",
       "    </tr>\n",
       "    <tr>\n",
       "      <th>Month_of_absence</th>\n",
       "      <td>0</td>\n",
       "    </tr>\n",
       "    <tr>\n",
       "      <th>Day_of_the_week</th>\n",
       "      <td>0</td>\n",
       "    </tr>\n",
       "    <tr>\n",
       "      <th>Seasons</th>\n",
       "      <td>0</td>\n",
       "    </tr>\n",
       "    <tr>\n",
       "      <th>Transportation_expense</th>\n",
       "      <td>0</td>\n",
       "    </tr>\n",
       "    <tr>\n",
       "      <th>Distance_from_Residence_to_Work</th>\n",
       "      <td>0</td>\n",
       "    </tr>\n",
       "    <tr>\n",
       "      <th>Service_time</th>\n",
       "      <td>0</td>\n",
       "    </tr>\n",
       "    <tr>\n",
       "      <th>Age</th>\n",
       "      <td>0</td>\n",
       "    </tr>\n",
       "    <tr>\n",
       "      <th>Work_load_Average_Perday</th>\n",
       "      <td>0</td>\n",
       "    </tr>\n",
       "    <tr>\n",
       "      <th>Hit_target</th>\n",
       "      <td>0</td>\n",
       "    </tr>\n",
       "    <tr>\n",
       "      <th>Disciplinary_failure</th>\n",
       "      <td>0</td>\n",
       "    </tr>\n",
       "    <tr>\n",
       "      <th>Education</th>\n",
       "      <td>0</td>\n",
       "    </tr>\n",
       "    <tr>\n",
       "      <th>Son</th>\n",
       "      <td>0</td>\n",
       "    </tr>\n",
       "    <tr>\n",
       "      <th>Social_drinker</th>\n",
       "      <td>0</td>\n",
       "    </tr>\n",
       "    <tr>\n",
       "      <th>Social_smoker</th>\n",
       "      <td>0</td>\n",
       "    </tr>\n",
       "    <tr>\n",
       "      <th>Pet</th>\n",
       "      <td>0</td>\n",
       "    </tr>\n",
       "    <tr>\n",
       "      <th>Weight</th>\n",
       "      <td>0</td>\n",
       "    </tr>\n",
       "    <tr>\n",
       "      <th>Height</th>\n",
       "      <td>0</td>\n",
       "    </tr>\n",
       "    <tr>\n",
       "      <th>Body_mass_index</th>\n",
       "      <td>0</td>\n",
       "    </tr>\n",
       "    <tr>\n",
       "      <th>Absenteeism_time_in_hours</th>\n",
       "      <td>0</td>\n",
       "    </tr>\n",
       "  </tbody>\n",
       "</table>\n",
       "</div>"
      ],
      "text/plain": [
       "                                 0\n",
       "ID                               0\n",
       "Reason_for_absence               0\n",
       "Month_of_absence                 0\n",
       "Day_of_the_week                  0\n",
       "Seasons                          0\n",
       "Transportation_expense           0\n",
       "Distance_from_Residence_to_Work  0\n",
       "Service_time                     0\n",
       "Age                              0\n",
       "Work_load_Average_Perday         0\n",
       "Hit_target                       0\n",
       "Disciplinary_failure             0\n",
       "Education                        0\n",
       "Son                              0\n",
       "Social_drinker                   0\n",
       "Social_smoker                    0\n",
       "Pet                              0\n",
       "Weight                           0\n",
       "Height                           0\n",
       "Body_mass_index                  0\n",
       "Absenteeism_time_in_hours        0"
      ]
     },
     "execution_count": 39,
     "metadata": {},
     "output_type": "execute_result"
    }
   ],
   "source": [
    "#Checking the missing values again:\n",
    "missing_valll=pd.DataFrame(data.isnull().sum())\n",
    "\n",
    "missing_valll"
   ]
  },
  {
   "cell_type": "code",
   "execution_count": 108,
   "metadata": {},
   "outputs": [
    {
     "data": {
      "text/plain": [
       "<matplotlib.axes._subplots.AxesSubplot at 0x1e8ebc02e48>"
      ]
     },
     "execution_count": 108,
     "metadata": {},
     "output_type": "execute_result"
    },
    {
     "data": {
      "image/png": "[encoded data removed]",
      "text/plain": [
       "<Figure size 504x360 with 2 Axes>"
      ]
     },
     "metadata": {
      "needs_background": "light"
     },
     "output_type": "display_data"
    }
   ],
   "source": [
    "#Feature Selection:\n",
    "\n",
    "# Before removing unwanted features:\n",
    "num_cnames=[\"Body_mass_index\",\"Weight\",\"Distance_from_Residence_to_Work\",\"Transportation_expense\",\"Service_time\",\"Age\",\"Work_load_Average_Perday\",\"Hit_target\",\"Height\",\"Absenteeism_time_in_hours\"]\n",
    "\n",
    "df_corr=data.loc[:,num_cnames]\n",
    "\n",
    "#set width and height of the plot\n",
    "f,ax=plt.subplots(figsize=(7,5))\n",
    "\n",
    "#generate co-relation matrix\n",
    "corr=df_corr.corr()\n",
    "\n",
    "#plotting\n",
    "\n",
    "sns.heatmap(corr,mask=np.zeros_like(corr,dtype=np.bool),square=True,ax=ax)\n",
    "\n",
    "\n"
   ]
  },
  {
   "cell_type": "code",
   "execution_count": 109,
   "metadata": {},
   "outputs": [],
   "source": [
    "#Removing the BMI variab\n",
    "data=data.drop(\"Body_mass_index\",axis=1)\n",
    "data=data.drop(\"Service_time\",axis=1)\n",
    "data=data.drop(\"ID\",axis=1)"
   ]
  },
  {
   "cell_type": "code",
   "execution_count": 110,
   "metadata": {
    "scrolled": true
   },
   "outputs": [
    {
     "data": {
      "text/plain": [
       "<matplotlib.axes._subplots.AxesSubplot at 0x1e8ebc35518>"
      ]
     },
     "execution_count": 110,
     "metadata": {},
     "output_type": "execute_result"
    },
    {
     "data": {
      "image/png": "[encoded data removed]",
      "text/plain": [
       "<Figure size 504x360 with 2 Axes>"
      ]
     },
     "metadata": {
      "needs_background": "light"
     },
     "output_type": "display_data"
    }
   ],
   "source": [
    "#After Removing unwanted features\n",
    "\n",
    "num_cnames=[\"Weight\",\"Distance_from_Residence_to_Work\",\"Transportation_expense\",\"Age\",\"Work_load_Average_Perday\",\"Hit_target\",\"Height\",\"Absenteeism_time_in_hours\"]\n",
    "\n",
    "df_corr=data.loc[:,num_cnames]\n",
    "\n",
    "#set width and height of the plot\n",
    "f,ax=plt.subplots(figsize=(7,5))\n",
    "\n",
    "#generate co-relation matrix\n",
    "corr=df_corr.corr()\n",
    "\n",
    "#plotting\n",
    "\n",
    "sns.heatmap(corr,mask=np.zeros_like(corr,dtype=np.bool),square=True,ax=ax)\n"
   ]
  },
  {
   "cell_type": "code",
   "execution_count": 87,
   "metadata": {},
   "outputs": [],
   "source": [
    "#Saving the data in another variable for future use\n",
    "datat=data\n"
   ]
  },
  {
   "cell_type": "code",
   "execution_count": 111,
   "metadata": {},
   "outputs": [],
   "source": [
    "#Feature Scaling:\n",
    "\n",
    "# Performing normalization: \n",
    "\n",
    "\n",
    "for i in num_cnames:\n",
    "    \n",
    "    data[i]=(data[i]-np.min(data[i]))/(np.max(data[i])-np.min(data[i]))\n",
    "    "
   ]
  },
  {
   "cell_type": "code",
   "execution_count": 113,
   "metadata": {},
   "outputs": [],
   "source": [
    "#We are removing the data that is not useful.\n",
    "\n",
    "datat=data\n",
    "data = data.drop(data[(data.Reason_for_absence==0) & (data.Month_of_absence==0)].index)"
   ]
  },
  {
   "cell_type": "code",
   "execution_count": 114,
   "metadata": {},
   "outputs": [
    {
     "data": {
      "text/plain": [
       "(715, 18)"
      ]
     },
     "execution_count": 114,
     "metadata": {},
     "output_type": "execute_result"
    }
   ],
   "source": [
    "data.shape"
   ]
  },
  {
   "cell_type": "code",
   "execution_count": 117,
   "metadata": {},
   "outputs": [],
   "source": [
    "#Sampling:\n",
    "\n",
    "from sklearn.model_selection import train_test_split\n",
    "train, test = train_test_split(data, test_size=0.2)"
   ]
  },
  {
   "cell_type": "code",
   "execution_count": 118,
   "metadata": {},
   "outputs": [
    {
     "data": {
      "text/plain": [
       "(143, 18)"
      ]
     },
     "execution_count": 118,
     "metadata": {},
     "output_type": "execute_result"
    }
   ],
   "source": [
    "#Checking the No of Rows and columns of the train and test datasets\n",
    "test.shape"
   ]
  },
  {
   "cell_type": "code",
   "execution_count": 119,
   "metadata": {},
   "outputs": [
    {
     "data": {
      "text/plain": [
       "(572, 18)"
      ]
     },
     "execution_count": 119,
     "metadata": {},
     "output_type": "execute_result"
    }
   ],
   "source": [
    "train.shape"
   ]
  },
  {
   "cell_type": "code",
   "execution_count": 133,
   "metadata": {},
   "outputs": [],
   "source": [
    "#Aplying linear regression:\n",
    "\n",
    "import statsmodels.api as sm\n",
    "model=sm.OLS(train.iloc[:,17].astype(float),train.iloc[:,0:16].astype(float)).fit()\n",
    "predictions_lm=model.predict(test.iloc[:,0:16])"
   ]
  },
  {
   "cell_type": "code",
   "execution_count": 135,
   "metadata": {},
   "outputs": [
    {
     "data": {
      "text/plain": [
       "0.31330455919961053"
      ]
     },
     "execution_count": 135,
     "metadata": {},
     "output_type": "execute_result"
    }
   ],
   "source": [
    "#Calculating RMSE \n",
    "\n",
    "def rmse(predictions, targets):\n",
    "    return np.sqrt(((predictions - targets) ** 2).mean())\n",
    "\n",
    "rmse_val=rmse(predictions_lm,test['Absenteeism_time_in_hours'])\n",
    "rmse_val"
   ]
  },
  {
   "cell_type": "code",
   "execution_count": 136,
   "metadata": {},
   "outputs": [],
   "source": [
    "#Applying Decision Tree:\n",
    "\n",
    "from sklearn.tree import DecisionTreeRegressor\n",
    "fit = DecisionTreeRegressor(max_depth=2).fit(train.iloc[:,0:16],train.iloc[:,17])\n",
    "predictions_Dt=fit.predict(test.iloc[:,0:16])\n"
   ]
  },
  {
   "cell_type": "code",
   "execution_count": 137,
   "metadata": {},
   "outputs": [
    {
     "data": {
      "text/plain": [
       "0.2835487953980946"
      ]
     },
     "execution_count": 137,
     "metadata": {},
     "output_type": "execute_result"
    }
   ],
   "source": [
    "rmse_val=rmse(predictions_Dt,test['Absenteeism_time_in_hours'])\n",
    "rmse_val"
   ]
  },
  {
   "cell_type": "code",
   "execution_count": null,
   "metadata": {},
   "outputs": [],
   "source": [
    "# So, Decision Tree is working well . So, we will be using this algorithm for future analysis."
   ]
  },
  {
   "cell_type": "code",
   "execution_count": null,
   "metadata": {},
   "outputs": [],
   "source": []
  },
  {
   "cell_type": "code",
   "execution_count": null,
   "metadata": {},
   "outputs": [],
   "source": []
  },
  {
   "cell_type": "code",
   "execution_count": null,
   "metadata": {},
   "outputs": [],
   "source": []
  },
  {
   "cell_type": "code",
   "execution_count": null,
   "metadata": {},
   "outputs": [],
   "source": []
  },
  {
   "cell_type": "code",
   "execution_count": null,
   "metadata": {},
   "outputs": [],
   "source": []
  },
  {
   "cell_type": "code",
   "execution_count": null,
   "metadata": {},
   "outputs": [],
   "source": []
  }
 ],
 "metadata": {
  "kernelspec": {
   "display_name": "Python 3",
   "language": "python",
   "name": "python3"
  },
  "language_info": {
   "codemirror_mode": {
    "name": "ipython",
    "version": 3
   },
   "file_extension": ".py",
   "mimetype": "text/x-python",
   "name": "python",
   "nbconvert_exporter": "python",
   "pygments_lexer": "ipython3",
   "version": "3.7.1"
  }
 },
 "nbformat": 4,
 "nbformat_minor": 2
}
